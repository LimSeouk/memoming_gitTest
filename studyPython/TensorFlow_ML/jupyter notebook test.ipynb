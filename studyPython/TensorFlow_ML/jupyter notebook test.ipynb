{
 "cells": [
  {
   "cell_type": "code",
   "execution_count": 1,
   "metadata": {},
   "outputs": [
    {
     "name": "stdout",
     "output_type": "stream",
     "text": [
      "1\n"
     ]
    }
   ],
   "source": [
    "print(1)"
   ]
  },
  {
   "cell_type": "code",
   "execution_count": 2,
   "metadata": {},
   "outputs": [
    {
     "name": "stdout",
     "output_type": "stream",
     "text": [
      "0 4559787500.0 [10422.897] [2104.039]\n",
      "500 8687775.0 [25536.857] [1953.4729]\n",
      "1000 8633826.0 [25627.41] [1505.0648]\n",
      "1500 8632674.0 [25640.605] [1439.722]\n",
      "2000 8632649.0 [25642.53] [1430.1952]\n",
      "2500 8632654.0 [25642.805] [1428.8208]\n",
      "3000 8632656.0 [25642.844] [1428.6333]\n",
      "3500 8632657.0 [25642.848] [1428.6133]\n",
      "4000 8632657.0 [25642.848] [1428.6133]\n",
      "4500 8632657.0 [25642.848] [1428.6133]\n",
      "5000 8632657.0 [25642.848] [1428.6133]\n",
      "[206571.39]\n"
     ]
    }
   ],
   "source": [
    "# 1)tensorflow import\n",
    "import tensorflow as tf\n",
    "\n",
    "# x,y축 데이터 마련\n",
    "xData = [1,2,3,4,5,6,7]\n",
    "yData = [25000,55000,75000,110000,128000,155000,180000]\n",
    "\n",
    "# 가설의 기울기 (weight)\n",
    "# Y절편(b) 절편 (bias)\n",
    "# random_uniform : -100~100 사이의 값을 렌덤하게\n",
    "W = tf.Variable(tf.random_uniform([1],-100,100))\n",
    "b = tf.Variable(tf.random_uniform([1],-100,100))\n",
    "\n",
    "# X,Y를 플래이스홀더로서 정의해줌\n",
    "X = tf.placeholder(tf.float32)\n",
    "Y = tf.placeholder(tf.float32)\n",
    "\n",
    "# 가설정의\n",
    "H = W * X + b\n",
    "\n",
    "# 비용(cost) 정의\n",
    "# square : 제곱\n",
    "# H - Y = 예측값 - 실제값\n",
    "# reduce_mean 평균값을 구하는 것\n",
    "cost = tf.reduce_mean(tf.square(H - Y))\n",
    "\n",
    "# 경사하강 알고리즘에서 점프를 할 스텝의 거리를 정의\n",
    "# GradientDescentOptimizer : 경사하강 라이브러리\n",
    "a = tf.Variable(0.01)\n",
    "optimizer = tf.train.GradientDescentOptimizer(a)\n",
    "# 비용함수를 최소화시켜주는 방향으로 학습하도록 정의\n",
    "train = optimizer.minimize(cost)\n",
    "# 변수초기화\n",
    "init = tf.global_variables_initializer()\n",
    "# 세션정의\n",
    "sess = tf.Session()\n",
    "# 세션초기화\n",
    "sess.run(init)\n",
    "\n",
    "# 5000번 수행 할수 있도록\n",
    "for i in range(5001) :\n",
    "    # 학습시작\n",
    "    sess.run(train,feed_dict={X:xData, Y:yData})\n",
    "    # 500번에 한번찍 과정을 보여주도록 만들기\n",
    "    if i % 500 == 0 :\n",
    "        print(i, sess.run(cost, feed_dict={X: xData, Y: yData}),sess.run(W),sess.run(b))\n",
    "\n",
    "# 8시간 일했을때의 값\n",
    "print(sess.run(H, feed_dict={X:[8]}))"
   ]
  },
  {
   "cell_type": "code",
   "execution_count": null,
   "metadata": {},
   "outputs": [],
   "source": []
  }
 ],
 "metadata": {
  "kernelspec": {
   "display_name": "Python 3",
   "language": "python",
   "name": "python3"
  },
  "language_info": {
   "codemirror_mode": {
    "name": "ipython",
    "version": 3
   },
   "file_extension": ".py",
   "mimetype": "text/x-python",
   "name": "python",
   "nbconvert_exporter": "python",
   "pygments_lexer": "ipython3",
   "version": "3.7.3"
  }
 },
 "nbformat": 4,
 "nbformat_minor": 2
}
